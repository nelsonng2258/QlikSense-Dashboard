{
 "cells": [
  {
   "cell_type": "markdown",
   "metadata": {},
   "source": [
    "# Data Engineering"
   ]
  },
  {
   "cell_type": "markdown",
   "metadata": {},
   "source": [
    "## Import Packages"
   ]
  },
  {
   "cell_type": "code",
   "execution_count": 1,
   "metadata": {},
   "outputs": [],
   "source": [
    "import pandas as pd\n",
    "import numpy as np\n",
    "import missingno as msno"
   ]
  },
  {
   "cell_type": "markdown",
   "metadata": {},
   "source": [
    "## Import Data"
   ]
  },
  {
   "cell_type": "code",
   "execution_count": 2,
   "metadata": {},
   "outputs": [
    {
     "data": {
      "text/plain": [
       "(185950, 11)"
      ]
     },
     "execution_count": 2,
     "metadata": {},
     "output_type": "execute_result"
    }
   ],
   "source": [
    "# Data obtained from kaggle https://www.kaggle.com/datasets/beekiran/sales-data-analysis \n",
    "sales_df = pd.read_csv('./input_data/Sales Data.csv')\n",
    "sales_df.shape"
   ]
  },
  {
   "cell_type": "code",
   "execution_count": 3,
   "metadata": {},
   "outputs": [
    {
     "data": {
      "text/html": [
       "<div>\n",
       "<style scoped>\n",
       "    .dataframe tbody tr th:only-of-type {\n",
       "        vertical-align: middle;\n",
       "    }\n",
       "\n",
       "    .dataframe tbody tr th {\n",
       "        vertical-align: top;\n",
       "    }\n",
       "\n",
       "    .dataframe thead th {\n",
       "        text-align: right;\n",
       "    }\n",
       "</style>\n",
       "<table border=\"1\" class=\"dataframe\">\n",
       "  <thead>\n",
       "    <tr style=\"text-align: right;\">\n",
       "      <th></th>\n",
       "      <th>Unnamed: 0</th>\n",
       "      <th>Order ID</th>\n",
       "      <th>Product</th>\n",
       "      <th>Quantity Ordered</th>\n",
       "      <th>Price Each</th>\n",
       "      <th>Order Date</th>\n",
       "      <th>Purchase Address</th>\n",
       "      <th>Month</th>\n",
       "      <th>Sales</th>\n",
       "      <th>City</th>\n",
       "      <th>Hour</th>\n",
       "    </tr>\n",
       "  </thead>\n",
       "  <tbody>\n",
       "    <tr>\n",
       "      <th>0</th>\n",
       "      <td>0</td>\n",
       "      <td>295665</td>\n",
       "      <td>Macbook Pro Laptop</td>\n",
       "      <td>1</td>\n",
       "      <td>1700.00</td>\n",
       "      <td>30/12/19 0:01</td>\n",
       "      <td>136 Church St, New York City, NY 10001</td>\n",
       "      <td>12</td>\n",
       "      <td>1700.00</td>\n",
       "      <td>New York City</td>\n",
       "      <td>0</td>\n",
       "    </tr>\n",
       "    <tr>\n",
       "      <th>1</th>\n",
       "      <td>1</td>\n",
       "      <td>295666</td>\n",
       "      <td>LG Washing Machine</td>\n",
       "      <td>1</td>\n",
       "      <td>600.00</td>\n",
       "      <td>29/12/19 7:03</td>\n",
       "      <td>562 2nd St, New York City, NY 10001</td>\n",
       "      <td>12</td>\n",
       "      <td>600.00</td>\n",
       "      <td>New York City</td>\n",
       "      <td>7</td>\n",
       "    </tr>\n",
       "    <tr>\n",
       "      <th>2</th>\n",
       "      <td>2</td>\n",
       "      <td>295667</td>\n",
       "      <td>USB-C Charging Cable</td>\n",
       "      <td>1</td>\n",
       "      <td>11.95</td>\n",
       "      <td>12/12/19 18:21</td>\n",
       "      <td>277 Main St, New York City, NY 10001</td>\n",
       "      <td>12</td>\n",
       "      <td>11.95</td>\n",
       "      <td>New York City</td>\n",
       "      <td>18</td>\n",
       "    </tr>\n",
       "    <tr>\n",
       "      <th>3</th>\n",
       "      <td>3</td>\n",
       "      <td>295668</td>\n",
       "      <td>27in FHD Monitor</td>\n",
       "      <td>1</td>\n",
       "      <td>149.99</td>\n",
       "      <td>22/12/19 15:13</td>\n",
       "      <td>410 6th St, San Francisco, CA 94016</td>\n",
       "      <td>12</td>\n",
       "      <td>149.99</td>\n",
       "      <td>San Francisco</td>\n",
       "      <td>15</td>\n",
       "    </tr>\n",
       "    <tr>\n",
       "      <th>4</th>\n",
       "      <td>4</td>\n",
       "      <td>295669</td>\n",
       "      <td>USB-C Charging Cable</td>\n",
       "      <td>1</td>\n",
       "      <td>11.95</td>\n",
       "      <td>18/12/19 12:38</td>\n",
       "      <td>43 Hill St, Atlanta, GA 30301</td>\n",
       "      <td>12</td>\n",
       "      <td>11.95</td>\n",
       "      <td>Atlanta</td>\n",
       "      <td>12</td>\n",
       "    </tr>\n",
       "  </tbody>\n",
       "</table>\n",
       "</div>"
      ],
      "text/plain": [
       "   Unnamed: 0  Order ID               Product  Quantity Ordered  Price Each  \\\n",
       "0           0    295665    Macbook Pro Laptop                 1     1700.00   \n",
       "1           1    295666    LG Washing Machine                 1      600.00   \n",
       "2           2    295667  USB-C Charging Cable                 1       11.95   \n",
       "3           3    295668      27in FHD Monitor                 1      149.99   \n",
       "4           4    295669  USB-C Charging Cable                 1       11.95   \n",
       "\n",
       "       Order Date                        Purchase Address  Month    Sales  \\\n",
       "0   30/12/19 0:01  136 Church St, New York City, NY 10001     12  1700.00   \n",
       "1   29/12/19 7:03     562 2nd St, New York City, NY 10001     12   600.00   \n",
       "2  12/12/19 18:21    277 Main St, New York City, NY 10001     12    11.95   \n",
       "3  22/12/19 15:13     410 6th St, San Francisco, CA 94016     12   149.99   \n",
       "4  18/12/19 12:38           43 Hill St, Atlanta, GA 30301     12    11.95   \n",
       "\n",
       "             City  Hour  \n",
       "0   New York City     0  \n",
       "1   New York City     7  \n",
       "2   New York City    18  \n",
       "3   San Francisco    15  \n",
       "4         Atlanta    12  "
      ]
     },
     "execution_count": 3,
     "metadata": {},
     "output_type": "execute_result"
    }
   ],
   "source": [
    "sales_df.head()"
   ]
  },
  {
   "cell_type": "code",
   "execution_count": 4,
   "metadata": {},
   "outputs": [
    {
     "data": {
      "text/plain": [
       "(19, 4)"
      ]
     },
     "execution_count": 4,
     "metadata": {},
     "output_type": "execute_result"
    }
   ],
   "source": [
    "# Data generated for enrichment to demonstrate drill down and rollup knowledge on QS \n",
    "product_addon_df = pd.read_csv('./input_data/product_addon.csv')\n",
    "product_addon_df.shape"
   ]
  },
  {
   "cell_type": "code",
   "execution_count": 5,
   "metadata": {},
   "outputs": [
    {
     "data": {
      "text/html": [
       "<div>\n",
       "<style scoped>\n",
       "    .dataframe tbody tr th:only-of-type {\n",
       "        vertical-align: middle;\n",
       "    }\n",
       "\n",
       "    .dataframe tbody tr th {\n",
       "        vertical-align: top;\n",
       "    }\n",
       "\n",
       "    .dataframe thead th {\n",
       "        text-align: right;\n",
       "    }\n",
       "</style>\n",
       "<table border=\"1\" class=\"dataframe\">\n",
       "  <thead>\n",
       "    <tr style=\"text-align: right;\">\n",
       "      <th></th>\n",
       "      <th>Product</th>\n",
       "      <th>Category</th>\n",
       "      <th>Subcategory</th>\n",
       "      <th>Cost Each</th>\n",
       "    </tr>\n",
       "  </thead>\n",
       "  <tbody>\n",
       "    <tr>\n",
       "      <th>0</th>\n",
       "      <td>20in Monitor</td>\n",
       "      <td>Computer, Tablets &amp; Gaming</td>\n",
       "      <td>Monitors</td>\n",
       "      <td>57.19</td>\n",
       "    </tr>\n",
       "    <tr>\n",
       "      <th>1</th>\n",
       "      <td>27in 4K Gaming Monitor</td>\n",
       "      <td>Computer, Tablets &amp; Gaming</td>\n",
       "      <td>Gaming Monitors</td>\n",
       "      <td>202.79</td>\n",
       "    </tr>\n",
       "    <tr>\n",
       "      <th>2</th>\n",
       "      <td>27in FHD Monitor</td>\n",
       "      <td>Computer, Tablets &amp; Gaming</td>\n",
       "      <td>Monitors</td>\n",
       "      <td>79.49</td>\n",
       "    </tr>\n",
       "    <tr>\n",
       "      <th>3</th>\n",
       "      <td>34in Ultrawide Monitor</td>\n",
       "      <td>Computer, Tablets &amp; Gaming</td>\n",
       "      <td>Monitors</td>\n",
       "      <td>193.79</td>\n",
       "    </tr>\n",
       "    <tr>\n",
       "      <th>4</th>\n",
       "      <td>AA Batteries (4-pack)</td>\n",
       "      <td>Computer, Tablets &amp; Gaming</td>\n",
       "      <td>Batteries</td>\n",
       "      <td>2.15</td>\n",
       "    </tr>\n",
       "  </tbody>\n",
       "</table>\n",
       "</div>"
      ],
      "text/plain": [
       "                  Product                    Category      Subcategory  \\\n",
       "0            20in Monitor  Computer, Tablets & Gaming         Monitors   \n",
       "1  27in 4K Gaming Monitor  Computer, Tablets & Gaming  Gaming Monitors   \n",
       "2        27in FHD Monitor  Computer, Tablets & Gaming         Monitors   \n",
       "3  34in Ultrawide Monitor  Computer, Tablets & Gaming         Monitors   \n",
       "4   AA Batteries (4-pack)  Computer, Tablets & Gaming        Batteries   \n",
       "\n",
       "   Cost Each  \n",
       "0      57.19  \n",
       "1     202.79  \n",
       "2      79.49  \n",
       "3     193.79  \n",
       "4       2.15  "
      ]
     },
     "execution_count": 5,
     "metadata": {},
     "output_type": "execute_result"
    }
   ],
   "source": [
    "product_addon_df.head()"
   ]
  },
  {
   "cell_type": "code",
   "execution_count": 6,
   "metadata": {},
   "outputs": [
    {
     "data": {
      "text/plain": [
       "(9, 2)"
      ]
     },
     "execution_count": 6,
     "metadata": {},
     "output_type": "execute_result"
    }
   ],
   "source": [
    "# Data generated for enrichment to demonstrate drill down and rollup knowledge on QS \n",
    "purchaseaddress_addon_df = pd.read_csv('./input_data/purchaseaddress_addon.csv')\n",
    "purchaseaddress_addon_df.shape"
   ]
  },
  {
   "cell_type": "code",
   "execution_count": 7,
   "metadata": {},
   "outputs": [
    {
     "data": {
      "text/html": [
       "<div>\n",
       "<style scoped>\n",
       "    .dataframe tbody tr th:only-of-type {\n",
       "        vertical-align: middle;\n",
       "    }\n",
       "\n",
       "    .dataframe tbody tr th {\n",
       "        vertical-align: top;\n",
       "    }\n",
       "\n",
       "    .dataframe thead th {\n",
       "        text-align: right;\n",
       "    }\n",
       "</style>\n",
       "<table border=\"1\" class=\"dataframe\">\n",
       "  <thead>\n",
       "    <tr style=\"text-align: right;\">\n",
       "      <th></th>\n",
       "      <th>City</th>\n",
       "      <th>Region</th>\n",
       "    </tr>\n",
       "  </thead>\n",
       "  <tbody>\n",
       "    <tr>\n",
       "      <th>0</th>\n",
       "      <td>New York City</td>\n",
       "      <td>Northeast</td>\n",
       "    </tr>\n",
       "    <tr>\n",
       "      <th>1</th>\n",
       "      <td>San Francisco</td>\n",
       "      <td>West</td>\n",
       "    </tr>\n",
       "    <tr>\n",
       "      <th>2</th>\n",
       "      <td>Atlanta</td>\n",
       "      <td>South</td>\n",
       "    </tr>\n",
       "    <tr>\n",
       "      <th>3</th>\n",
       "      <td>Portland</td>\n",
       "      <td>West</td>\n",
       "    </tr>\n",
       "    <tr>\n",
       "      <th>4</th>\n",
       "      <td>Dallas</td>\n",
       "      <td>South</td>\n",
       "    </tr>\n",
       "  </tbody>\n",
       "</table>\n",
       "</div>"
      ],
      "text/plain": [
       "             City     Region\n",
       "0   New York City  Northeast\n",
       "1   San Francisco       West\n",
       "2         Atlanta      South\n",
       "3        Portland       West\n",
       "4          Dallas      South"
      ]
     },
     "execution_count": 7,
     "metadata": {},
     "output_type": "execute_result"
    }
   ],
   "source": [
    "purchaseaddress_addon_df.head()"
   ]
  },
  {
   "cell_type": "markdown",
   "metadata": {},
   "source": [
    "## Data Preprocessing"
   ]
  },
  {
   "cell_type": "code",
   "execution_count": 8,
   "metadata": {},
   "outputs": [
    {
     "name": "stdout",
     "output_type": "stream",
     "text": [
      "<class 'pandas.core.frame.DataFrame'>\n",
      "RangeIndex: 185950 entries, 0 to 185949\n",
      "Data columns (total 11 columns):\n",
      " #   Column            Non-Null Count   Dtype         \n",
      "---  ------            --------------   -----         \n",
      " 0   Unnamed: 0        185950 non-null  int64         \n",
      " 1   Order ID          185950 non-null  int64         \n",
      " 2   Product           185950 non-null  object        \n",
      " 3   Quantity Ordered  185950 non-null  int64         \n",
      " 4   Price Each        185950 non-null  float64       \n",
      " 5   Order Date        185950 non-null  datetime64[ns]\n",
      " 6   Purchase Address  185950 non-null  object        \n",
      " 7   Month             185950 non-null  int64         \n",
      " 8   Sales             185950 non-null  float64       \n",
      " 9   City              185950 non-null  object        \n",
      " 10  Hour              185950 non-null  int64         \n",
      "dtypes: datetime64[ns](1), float64(2), int64(5), object(3)\n",
      "memory usage: 15.6+ MB\n"
     ]
    }
   ],
   "source": [
    "sales_df['Order Date'] = pd.to_datetime(sales_df['Order Date'])\n",
    "sales_df.info()"
   ]
  },
  {
   "cell_type": "markdown",
   "metadata": {},
   "source": [
    "### Nullity Check"
   ]
  },
  {
   "cell_type": "code",
   "execution_count": 9,
   "metadata": {},
   "outputs": [
    {
     "data": {
      "text/plain": [
       "<Axes: >"
      ]
     },
     "execution_count": 9,
     "metadata": {},
     "output_type": "execute_result"
    },
    {
     "data": {
      "image/png": "[encoded data removed]",
      "text/plain": [
       "<Figure size 2500x1000 with 2 Axes>"
      ]
     },
     "metadata": {},
     "output_type": "display_data"
    }
   ],
   "source": [
    "msno.matrix(sales_df)"
   ]
  },
  {
   "cell_type": "markdown",
   "metadata": {},
   "source": [
    "## Dimension Tables"
   ]
  },
  {
   "cell_type": "markdown",
   "metadata": {},
   "source": [
    "### Time Dimension Table"
   ]
  },
  {
   "cell_type": "code",
   "execution_count": 10,
   "metadata": {},
   "outputs": [
    {
     "data": {
      "text/plain": [
       "(178437, 2)"
      ]
     },
     "execution_count": 10,
     "metadata": {},
     "output_type": "execute_result"
    }
   ],
   "source": [
    "# Drop duplicates\n",
    "time_dim_df = sales_df[['Order ID', 'Order Date']].drop_duplicates()\n",
    "time_dim_df.shape"
   ]
  },
  {
   "cell_type": "code",
   "execution_count": 11,
   "metadata": {},
   "outputs": [
    {
     "data": {
      "text/html": [
       "<div>\n",
       "<style scoped>\n",
       "    .dataframe tbody tr th:only-of-type {\n",
       "        vertical-align: middle;\n",
       "    }\n",
       "\n",
       "    .dataframe tbody tr th {\n",
       "        vertical-align: top;\n",
       "    }\n",
       "\n",
       "    .dataframe thead th {\n",
       "        text-align: right;\n",
       "    }\n",
       "</style>\n",
       "<table border=\"1\" class=\"dataframe\">\n",
       "  <thead>\n",
       "    <tr style=\"text-align: right;\">\n",
       "      <th></th>\n",
       "      <th>Order ID</th>\n",
       "      <th>Order Date</th>\n",
       "      <th>Year</th>\n",
       "      <th>Quarter</th>\n",
       "      <th>Month</th>\n",
       "      <th>Day</th>\n",
       "      <th>Hour</th>\n",
       "    </tr>\n",
       "  </thead>\n",
       "  <tbody>\n",
       "    <tr>\n",
       "      <th>0</th>\n",
       "      <td>295665</td>\n",
       "      <td>2019-12-30 00:01:00</td>\n",
       "      <td>2019</td>\n",
       "      <td>4</td>\n",
       "      <td>12</td>\n",
       "      <td>30</td>\n",
       "      <td>0</td>\n",
       "    </tr>\n",
       "    <tr>\n",
       "      <th>1</th>\n",
       "      <td>295666</td>\n",
       "      <td>2019-12-29 07:03:00</td>\n",
       "      <td>2019</td>\n",
       "      <td>4</td>\n",
       "      <td>12</td>\n",
       "      <td>29</td>\n",
       "      <td>7</td>\n",
       "    </tr>\n",
       "    <tr>\n",
       "      <th>2</th>\n",
       "      <td>295667</td>\n",
       "      <td>2019-12-12 18:21:00</td>\n",
       "      <td>2019</td>\n",
       "      <td>4</td>\n",
       "      <td>12</td>\n",
       "      <td>12</td>\n",
       "      <td>18</td>\n",
       "    </tr>\n",
       "    <tr>\n",
       "      <th>3</th>\n",
       "      <td>295668</td>\n",
       "      <td>2019-12-22 15:13:00</td>\n",
       "      <td>2019</td>\n",
       "      <td>4</td>\n",
       "      <td>12</td>\n",
       "      <td>22</td>\n",
       "      <td>15</td>\n",
       "    </tr>\n",
       "    <tr>\n",
       "      <th>4</th>\n",
       "      <td>295669</td>\n",
       "      <td>2019-12-18 12:38:00</td>\n",
       "      <td>2019</td>\n",
       "      <td>4</td>\n",
       "      <td>12</td>\n",
       "      <td>18</td>\n",
       "      <td>12</td>\n",
       "    </tr>\n",
       "  </tbody>\n",
       "</table>\n",
       "</div>"
      ],
      "text/plain": [
       "   Order ID          Order Date  Year  Quarter  Month  Day  Hour\n",
       "0    295665 2019-12-30 00:01:00  2019        4     12   30     0\n",
       "1    295666 2019-12-29 07:03:00  2019        4     12   29     7\n",
       "2    295667 2019-12-12 18:21:00  2019        4     12   12    18\n",
       "3    295668 2019-12-22 15:13:00  2019        4     12   22    15\n",
       "4    295669 2019-12-18 12:38:00  2019        4     12   18    12"
      ]
     },
     "execution_count": 11,
     "metadata": {},
     "output_type": "execute_result"
    }
   ],
   "source": [
    "# Add granularity \n",
    "# Convert 'Order Date' column to datetime\n",
    "time_dim_df['Order Date'] = pd.to_datetime(time_dim_df['Order Date'])\n",
    "\n",
    "# Extract year and month\n",
    "time_dim_df['Year'] = pd.to_datetime(time_dim_df['Order Date']).dt.year\n",
    "time_dim_df['Quarter'] = pd.to_datetime(time_dim_df['Order Date']).dt.quarter\n",
    "time_dim_df['Month'] = pd.to_datetime(time_dim_df['Order Date']).dt.month\n",
    "time_dim_df['Day'] = pd.to_datetime(time_dim_df['Order Date']).dt.day\n",
    "time_dim_df['Hour'] = pd.to_datetime(time_dim_df['Order Date']).dt.hour\n",
    "\n",
    "# Display dataframe head \n",
    "time_dim_df.head()"
   ]
  },
  {
   "cell_type": "code",
   "execution_count": 12,
   "metadata": {},
   "outputs": [
    {
     "name": "stdout",
     "output_type": "stream",
     "text": [
      "<class 'pandas.core.frame.DataFrame'>\n",
      "Int64Index: 178437 entries, 0 to 185949\n",
      "Data columns (total 7 columns):\n",
      " #   Column      Non-Null Count   Dtype         \n",
      "---  ------      --------------   -----         \n",
      " 0   Order ID    178437 non-null  int64         \n",
      " 1   Order Date  178437 non-null  datetime64[ns]\n",
      " 2   Year        178437 non-null  int64         \n",
      " 3   Quarter     178437 non-null  int64         \n",
      " 4   Month       178437 non-null  int64         \n",
      " 5   Day         178437 non-null  int64         \n",
      " 6   Hour        178437 non-null  int64         \n",
      "dtypes: datetime64[ns](1), int64(6)\n",
      "memory usage: 10.9 MB\n"
     ]
    }
   ],
   "source": [
    "# Data type check\n",
    "time_dim_df.info()"
   ]
  },
  {
   "cell_type": "code",
   "execution_count": 13,
   "metadata": {},
   "outputs": [],
   "source": [
    "# Save to csv\n",
    "time_dim_df.to_csv('./star_schema_data/time_dim.csv', index=False)"
   ]
  },
  {
   "cell_type": "markdown",
   "metadata": {},
   "source": [
    "### Product Dimension Table"
   ]
  },
  {
   "cell_type": "code",
   "execution_count": 14,
   "metadata": {},
   "outputs": [
    {
     "data": {
      "text/plain": [
       "(19, 2)"
      ]
     },
     "execution_count": 14,
     "metadata": {},
     "output_type": "execute_result"
    }
   ],
   "source": [
    "# Drop duplicates\n",
    "product_dim_df = sales_df[['Product', 'Price Each']].drop_duplicates().sort_values(by=['Product'], ascending=True)\n",
    "product_dim_df.shape"
   ]
  },
  {
   "cell_type": "code",
   "execution_count": 15,
   "metadata": {},
   "outputs": [
    {
     "data": {
      "text/html": [
       "<div>\n",
       "<style scoped>\n",
       "    .dataframe tbody tr th:only-of-type {\n",
       "        vertical-align: middle;\n",
       "    }\n",
       "\n",
       "    .dataframe tbody tr th {\n",
       "        vertical-align: top;\n",
       "    }\n",
       "\n",
       "    .dataframe thead th {\n",
       "        text-align: right;\n",
       "    }\n",
       "</style>\n",
       "<table border=\"1\" class=\"dataframe\">\n",
       "  <thead>\n",
       "    <tr style=\"text-align: right;\">\n",
       "      <th></th>\n",
       "      <th>Product ID</th>\n",
       "      <th>Product</th>\n",
       "      <th>Category</th>\n",
       "      <th>Subcategory</th>\n",
       "      <th>Price Each</th>\n",
       "      <th>Cost Each</th>\n",
       "    </tr>\n",
       "  </thead>\n",
       "  <tbody>\n",
       "    <tr>\n",
       "      <th>0</th>\n",
       "      <td>0</td>\n",
       "      <td>20in Monitor</td>\n",
       "      <td>Computer, Tablets &amp; Gaming</td>\n",
       "      <td>Monitors</td>\n",
       "      <td>109.99</td>\n",
       "      <td>57.19</td>\n",
       "    </tr>\n",
       "    <tr>\n",
       "      <th>1</th>\n",
       "      <td>1</td>\n",
       "      <td>27in 4K Gaming Monitor</td>\n",
       "      <td>Computer, Tablets &amp; Gaming</td>\n",
       "      <td>Gaming Monitors</td>\n",
       "      <td>389.99</td>\n",
       "      <td>202.79</td>\n",
       "    </tr>\n",
       "    <tr>\n",
       "      <th>2</th>\n",
       "      <td>2</td>\n",
       "      <td>27in FHD Monitor</td>\n",
       "      <td>Computer, Tablets &amp; Gaming</td>\n",
       "      <td>Monitors</td>\n",
       "      <td>149.99</td>\n",
       "      <td>79.49</td>\n",
       "    </tr>\n",
       "    <tr>\n",
       "      <th>3</th>\n",
       "      <td>3</td>\n",
       "      <td>34in Ultrawide Monitor</td>\n",
       "      <td>Computer, Tablets &amp; Gaming</td>\n",
       "      <td>Monitors</td>\n",
       "      <td>379.99</td>\n",
       "      <td>193.79</td>\n",
       "    </tr>\n",
       "    <tr>\n",
       "      <th>4</th>\n",
       "      <td>4</td>\n",
       "      <td>AA Batteries (4-pack)</td>\n",
       "      <td>Computer, Tablets &amp; Gaming</td>\n",
       "      <td>Batteries</td>\n",
       "      <td>3.84</td>\n",
       "      <td>2.15</td>\n",
       "    </tr>\n",
       "  </tbody>\n",
       "</table>\n",
       "</div>"
      ],
      "text/plain": [
       "   Product ID                 Product                    Category  \\\n",
       "0           0            20in Monitor  Computer, Tablets & Gaming   \n",
       "1           1  27in 4K Gaming Monitor  Computer, Tablets & Gaming   \n",
       "2           2        27in FHD Monitor  Computer, Tablets & Gaming   \n",
       "3           3  34in Ultrawide Monitor  Computer, Tablets & Gaming   \n",
       "4           4   AA Batteries (4-pack)  Computer, Tablets & Gaming   \n",
       "\n",
       "       Subcategory  Price Each  Cost Each  \n",
       "0         Monitors      109.99      57.19  \n",
       "1  Gaming Monitors      389.99     202.79  \n",
       "2         Monitors      149.99      79.49  \n",
       "3         Monitors      379.99     193.79  \n",
       "4        Batteries        3.84       2.15  "
      ]
     },
     "execution_count": 15,
     "metadata": {},
     "output_type": "execute_result"
    }
   ],
   "source": [
    "# Add surrogate key\n",
    "product_dim_df.sort_values(by=['Product'], ascending=True) \n",
    "product_dim_df.reset_index(inplace=True) \n",
    "product_dim_df['Product ID'] = product_dim_df.index \n",
    "product_dim_df = product_dim_df.merge(product_addon_df, how='left', on='Product')\n",
    "product_dim_df = product_dim_df[['Product ID', 'Product', 'Category', 'Subcategory', 'Price Each', 'Cost Each']] \n",
    "product_dim_df.head() "
   ]
  },
  {
   "cell_type": "code",
   "execution_count": 16,
   "metadata": {},
   "outputs": [
    {
     "name": "stdout",
     "output_type": "stream",
     "text": [
      "<class 'pandas.core.frame.DataFrame'>\n",
      "Int64Index: 19 entries, 0 to 18\n",
      "Data columns (total 6 columns):\n",
      " #   Column       Non-Null Count  Dtype  \n",
      "---  ------       --------------  -----  \n",
      " 0   Product ID   19 non-null     int64  \n",
      " 1   Product      19 non-null     object \n",
      " 2   Category     19 non-null     object \n",
      " 3   Subcategory  19 non-null     object \n",
      " 4   Price Each   19 non-null     float64\n",
      " 5   Cost Each    19 non-null     float64\n",
      "dtypes: float64(2), int64(1), object(3)\n",
      "memory usage: 1.0+ KB\n"
     ]
    }
   ],
   "source": [
    "# Data type check\n",
    "product_dim_df.info()"
   ]
  },
  {
   "cell_type": "code",
   "execution_count": 17,
   "metadata": {},
   "outputs": [],
   "source": [
    "# Save to csv\n",
    "product_dim_df.to_csv('./star_schema_data/product_dim.csv', index=False)"
   ]
  },
  {
   "cell_type": "markdown",
   "metadata": {},
   "source": [
    "### Purchase Address Dimension Table"
   ]
  },
  {
   "cell_type": "code",
   "execution_count": 18,
   "metadata": {},
   "outputs": [
    {
     "data": {
      "text/plain": [
       "(140787, 1)"
      ]
     },
     "execution_count": 18,
     "metadata": {},
     "output_type": "execute_result"
    }
   ],
   "source": [
    "# Drop duplicates\n",
    "purchaseaddress_dim_df = sales_df[['Purchase Address']].drop_duplicates()\n",
    "purchaseaddress_dim_df.shape"
   ]
  },
  {
   "cell_type": "code",
   "execution_count": 19,
   "metadata": {},
   "outputs": [],
   "source": [
    "# Add granularity \n",
    "purchaseaddress_dim_df['Street'] = purchaseaddress_dim_df['Purchase Address'].map(lambda row: row.split(',')[0])\n",
    "purchaseaddress_dim_df['City'] = purchaseaddress_dim_df['Purchase Address'].map(lambda row: row.split(',')[1])\n",
    "purchaseaddress_dim_df['State'] = purchaseaddress_dim_df['Purchase Address'].map(lambda row: row.split(',')[2].split(' ')[1])\n",
    "purchaseaddress_dim_df['Zip Code'] = purchaseaddress_dim_df['Purchase Address'].map(lambda row: row.split(',')[2].split(' ')[2])"
   ]
  },
  {
   "cell_type": "code",
   "execution_count": 20,
   "metadata": {},
   "outputs": [
    {
     "data": {
      "text/html": [
       "<div>\n",
       "<style scoped>\n",
       "    .dataframe tbody tr th:only-of-type {\n",
       "        vertical-align: middle;\n",
       "    }\n",
       "\n",
       "    .dataframe tbody tr th {\n",
       "        vertical-align: top;\n",
       "    }\n",
       "\n",
       "    .dataframe thead th {\n",
       "        text-align: right;\n",
       "    }\n",
       "</style>\n",
       "<table border=\"1\" class=\"dataframe\">\n",
       "  <thead>\n",
       "    <tr style=\"text-align: right;\">\n",
       "      <th></th>\n",
       "      <th>Purchase Address ID</th>\n",
       "      <th>Purchase Address</th>\n",
       "      <th>Street</th>\n",
       "      <th>City</th>\n",
       "      <th>State</th>\n",
       "      <th>Zip Code</th>\n",
       "      <th>Region</th>\n",
       "    </tr>\n",
       "  </thead>\n",
       "  <tbody>\n",
       "    <tr>\n",
       "      <th>0</th>\n",
       "      <td>0</td>\n",
       "      <td>136 Church St, New York City, NY 10001</td>\n",
       "      <td>136 Church St</td>\n",
       "      <td>New York City</td>\n",
       "      <td>NY</td>\n",
       "      <td>10001</td>\n",
       "      <td>Northeast</td>\n",
       "    </tr>\n",
       "    <tr>\n",
       "      <th>1</th>\n",
       "      <td>1</td>\n",
       "      <td>562 2nd St, New York City, NY 10001</td>\n",
       "      <td>562 2nd St</td>\n",
       "      <td>New York City</td>\n",
       "      <td>NY</td>\n",
       "      <td>10001</td>\n",
       "      <td>Northeast</td>\n",
       "    </tr>\n",
       "    <tr>\n",
       "      <th>2</th>\n",
       "      <td>2</td>\n",
       "      <td>277 Main St, New York City, NY 10001</td>\n",
       "      <td>277 Main St</td>\n",
       "      <td>New York City</td>\n",
       "      <td>NY</td>\n",
       "      <td>10001</td>\n",
       "      <td>Northeast</td>\n",
       "    </tr>\n",
       "    <tr>\n",
       "      <th>3</th>\n",
       "      <td>3</td>\n",
       "      <td>410 6th St, San Francisco, CA 94016</td>\n",
       "      <td>410 6th St</td>\n",
       "      <td>San Francisco</td>\n",
       "      <td>CA</td>\n",
       "      <td>94016</td>\n",
       "      <td>West</td>\n",
       "    </tr>\n",
       "    <tr>\n",
       "      <th>4</th>\n",
       "      <td>4</td>\n",
       "      <td>43 Hill St, Atlanta, GA 30301</td>\n",
       "      <td>43 Hill St</td>\n",
       "      <td>Atlanta</td>\n",
       "      <td>GA</td>\n",
       "      <td>30301</td>\n",
       "      <td>South</td>\n",
       "    </tr>\n",
       "  </tbody>\n",
       "</table>\n",
       "</div>"
      ],
      "text/plain": [
       "   Purchase Address ID                        Purchase Address         Street  \\\n",
       "0                    0  136 Church St, New York City, NY 10001  136 Church St   \n",
       "1                    1     562 2nd St, New York City, NY 10001     562 2nd St   \n",
       "2                    2    277 Main St, New York City, NY 10001    277 Main St   \n",
       "3                    3     410 6th St, San Francisco, CA 94016     410 6th St   \n",
       "4                    4           43 Hill St, Atlanta, GA 30301     43 Hill St   \n",
       "\n",
       "             City State Zip Code     Region  \n",
       "0   New York City    NY    10001  Northeast  \n",
       "1   New York City    NY    10001  Northeast  \n",
       "2   New York City    NY    10001  Northeast  \n",
       "3   San Francisco    CA    94016       West  \n",
       "4         Atlanta    GA    30301      South  "
      ]
     },
     "execution_count": 20,
     "metadata": {},
     "output_type": "execute_result"
    }
   ],
   "source": [
    "# Add surrogate key\n",
    "purchaseaddress_dim_df.sort_values(by=['State', 'City', 'Zip Code', 'Street'], ascending=True)\n",
    "purchaseaddress_dim_df.reset_index(inplace=True)\n",
    "purchaseaddress_dim_df['Purchase Address ID'] = purchaseaddress_dim_df.index\n",
    "purchaseaddress_dim_df = purchaseaddress_dim_df.merge(purchaseaddress_addon_df, how='left', on='City')\n",
    "purchaseaddress_dim_df = purchaseaddress_dim_df[['Purchase Address ID', 'Purchase Address', 'Street', 'City', 'State', 'Zip Code', 'Region']]\n",
    "purchaseaddress_dim_df.head()"
   ]
  },
  {
   "cell_type": "code",
   "execution_count": 21,
   "metadata": {},
   "outputs": [
    {
     "name": "stdout",
     "output_type": "stream",
     "text": [
      "<class 'pandas.core.frame.DataFrame'>\n",
      "Int64Index: 140787 entries, 0 to 140786\n",
      "Data columns (total 7 columns):\n",
      " #   Column               Non-Null Count   Dtype \n",
      "---  ------               --------------   ----- \n",
      " 0   Purchase Address ID  140787 non-null  int64 \n",
      " 1   Purchase Address     140787 non-null  object\n",
      " 2   Street               140787 non-null  object\n",
      " 3   City                 140787 non-null  object\n",
      " 4   State                140787 non-null  object\n",
      " 5   Zip Code             140787 non-null  int64 \n",
      " 6   Region               140787 non-null  object\n",
      "dtypes: int64(2), object(5)\n",
      "memory usage: 8.6+ MB\n"
     ]
    }
   ],
   "source": [
    "# Check data type. \n",
    "purchaseaddress_dim_df['Zip Code'] = purchaseaddress_dim_df['Zip Code'].astype(int)\n",
    "\n",
    "# Data type check\n",
    "purchaseaddress_dim_df.info()"
   ]
  },
  {
   "cell_type": "code",
   "execution_count": 22,
   "metadata": {},
   "outputs": [],
   "source": [
    "# Save to csv\n",
    "purchaseaddress_dim_df.to_csv('./star_schema_data/purchaseaddress_dim.csv', index=False)"
   ]
  },
  {
   "cell_type": "markdown",
   "metadata": {},
   "source": [
    "## Fact Table"
   ]
  },
  {
   "cell_type": "code",
   "execution_count": 23,
   "metadata": {},
   "outputs": [
    {
     "data": {
      "text/plain": [
       "(185950, 11)"
      ]
     },
     "execution_count": 23,
     "metadata": {},
     "output_type": "execute_result"
    }
   ],
   "source": [
    "# Drop duplicates\n",
    "sales_fact_df = sales_df.drop_duplicates()\n",
    "sales_fact_df.shape"
   ]
  },
  {
   "cell_type": "code",
   "execution_count": 24,
   "metadata": {},
   "outputs": [
    {
     "data": {
      "text/plain": [
       "(185950, 4)"
      ]
     },
     "execution_count": 24,
     "metadata": {},
     "output_type": "execute_result"
    }
   ],
   "source": [
    "# Update with the respective ID\n",
    "sales_fact_df = sales_fact_df.merge(time_dim_df, on=['Order ID', 'Order Date'], how='left')\n",
    "sales_fact_df = sales_fact_df.merge(product_dim_df, on=['Product', 'Price Each'], how='left')\n",
    "sales_fact_df = sales_fact_df.merge(purchaseaddress_dim_df, on=['Purchase Address'], how='left')\n",
    "sales_fact_df = sales_fact_df[['Order ID', 'Product ID', 'Purchase Address ID', 'Quantity Ordered']] \n",
    "sales_fact_df.shape"
   ]
  },
  {
   "cell_type": "code",
   "execution_count": 25,
   "metadata": {},
   "outputs": [
    {
     "data": {
      "text/html": [
       "<div>\n",
       "<style scoped>\n",
       "    .dataframe tbody tr th:only-of-type {\n",
       "        vertical-align: middle;\n",
       "    }\n",
       "\n",
       "    .dataframe tbody tr th {\n",
       "        vertical-align: top;\n",
       "    }\n",
       "\n",
       "    .dataframe thead th {\n",
       "        text-align: right;\n",
       "    }\n",
       "</style>\n",
       "<table border=\"1\" class=\"dataframe\">\n",
       "  <thead>\n",
       "    <tr style=\"text-align: right;\">\n",
       "      <th></th>\n",
       "      <th>Order ID</th>\n",
       "      <th>Product ID</th>\n",
       "      <th>Purchase Address ID</th>\n",
       "      <th>Quantity Ordered</th>\n",
       "    </tr>\n",
       "  </thead>\n",
       "  <tbody>\n",
       "    <tr>\n",
       "      <th>0</th>\n",
       "      <td>295665</td>\n",
       "      <td>13</td>\n",
       "      <td>0</td>\n",
       "      <td>1</td>\n",
       "    </tr>\n",
       "    <tr>\n",
       "      <th>1</th>\n",
       "      <td>295666</td>\n",
       "      <td>11</td>\n",
       "      <td>1</td>\n",
       "      <td>1</td>\n",
       "    </tr>\n",
       "    <tr>\n",
       "      <th>2</th>\n",
       "      <td>295667</td>\n",
       "      <td>15</td>\n",
       "      <td>2</td>\n",
       "      <td>1</td>\n",
       "    </tr>\n",
       "    <tr>\n",
       "      <th>3</th>\n",
       "      <td>295668</td>\n",
       "      <td>2</td>\n",
       "      <td>3</td>\n",
       "      <td>1</td>\n",
       "    </tr>\n",
       "    <tr>\n",
       "      <th>4</th>\n",
       "      <td>295669</td>\n",
       "      <td>15</td>\n",
       "      <td>4</td>\n",
       "      <td>1</td>\n",
       "    </tr>\n",
       "  </tbody>\n",
       "</table>\n",
       "</div>"
      ],
      "text/plain": [
       "   Order ID  Product ID  Purchase Address ID  Quantity Ordered\n",
       "0    295665          13                    0                 1\n",
       "1    295666          11                    1                 1\n",
       "2    295667          15                    2                 1\n",
       "3    295668           2                    3                 1\n",
       "4    295669          15                    4                 1"
      ]
     },
     "execution_count": 25,
     "metadata": {},
     "output_type": "execute_result"
    }
   ],
   "source": [
    "# Display head \n",
    "sales_fact_df.head() "
   ]
  },
  {
   "cell_type": "code",
   "execution_count": 26,
   "metadata": {},
   "outputs": [
    {
     "name": "stdout",
     "output_type": "stream",
     "text": [
      "<class 'pandas.core.frame.DataFrame'>\n",
      "Int64Index: 185950 entries, 0 to 185949\n",
      "Data columns (total 4 columns):\n",
      " #   Column               Non-Null Count   Dtype\n",
      "---  ------               --------------   -----\n",
      " 0   Order ID             185950 non-null  int64\n",
      " 1   Product ID           185950 non-null  int64\n",
      " 2   Purchase Address ID  185950 non-null  int64\n",
      " 3   Quantity Ordered     185950 non-null  int64\n",
      "dtypes: int64(4)\n",
      "memory usage: 7.1 MB\n"
     ]
    }
   ],
   "source": [
    "# Data type check\n",
    "sales_fact_df.info() "
   ]
  },
  {
   "cell_type": "code",
   "execution_count": 27,
   "metadata": {},
   "outputs": [],
   "source": [
    "# Save to csv\n",
    "sales_fact_df.to_csv('./star_schema_data/sales_fact.csv', index=False)"
   ]
  },
  {
   "cell_type": "code",
   "execution_count": null,
   "metadata": {},
   "outputs": [],
   "source": []
  }
 ],
 "metadata": {
  "kernelspec": {
   "display_name": "base",
   "language": "python",
   "name": "python3"
  },
  "language_info": {
   "codemirror_mode": {
    "name": "ipython",
    "version": 3
   },
   "file_extension": ".py",
   "mimetype": "text/x-python",
   "name": "python",
   "nbconvert_exporter": "python",
   "pygments_lexer": "ipython3",
   "version": "3.10.9"
  }
 },
 "nbformat": 4,
 "nbformat_minor": 2
}
